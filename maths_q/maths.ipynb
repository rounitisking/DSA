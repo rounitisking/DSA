{
 "cells": [
  {
   "cell_type": "markdown",
   "id": "c9d80dda-987b-4bee-bc65-9a0da1b46af9",
   "metadata": {},
   "source": [
    "to find the nCr binomial coeffiecient using n and r    --  nCr= n!/r!*(n-r)!"
   ]
  },
  {
   "cell_type": "code",
   "execution_count": 19,
   "id": "f6a50057-735f-49a3-b3c9-8c03e49e9714",
   "metadata": {},
   "outputs": [
    {
     "name": "stdin",
     "output_type": "stream",
     "text": [
      "enter the number n :  8\n",
      "enter the number r :  2\n"
     ]
    },
    {
     "name": "stdout",
     "output_type": "stream",
     "text": [
      "answer is :  28.0\n"
     ]
    }
   ],
   "source": [
    "n = int(input(\"enter the number n : \"))\n",
    "r = int(input(\"enter the number r : \"))\n",
    "\n",
    "def binomialCoefficient(n , r):\n",
    "    # calulating the factorial of n\n",
    "    FacOfn = 1\n",
    "    m =n\n",
    "    for i in range(m):\n",
    "        if(n-1 == 0):\n",
    "            break\n",
    "        FacOfn *= n\n",
    "        n = n - 1\n",
    "    \n",
    "    FacOfr = 1\n",
    "    p =r\n",
    "    for i in range(p):\n",
    "        if(r-1 == 0):\n",
    "            break\n",
    "        FacOfr *= r\n",
    "        r = r - 1\n",
    "        \n",
    "    FacOfnAndr = 1\n",
    "    \n",
    "    q =m - p\n",
    "    s = m - p\n",
    "    for i in range(q):\n",
    "        if(s -1 == 0):\n",
    "            break\n",
    "        FacOfnAndr *= s\n",
    "        s = s - 1\n",
    "        \n",
    "    ans = FacOfn/(FacOfr * FacOfnAndr)\n",
    "    return ans\n",
    "\n",
    "print(\"answer is : \" , binomialCoefficient(n , r))\n",
    "    "
   ]
  },
  {
   "cell_type": "markdown",
   "id": "57c8f4da-d4c6-4c62-a47c-036c542035e7",
   "metadata": {},
   "source": [
    "Q - code for decimal to binary conversion   -- here in this we will be using math.floor() fucntion which round of the digit to the lower number"
   ]
  },
  {
   "cell_type": "code",
   "execution_count": 29,
   "id": "11bf4172-562b-4f19-8a34-6eba0732f0c1",
   "metadata": {},
   "outputs": [
    {
     "name": "stdin",
     "output_type": "stream",
     "text": [
      "enter the number till which you have to make the patter :  3\n"
     ]
    },
    {
     "name": "stdout",
     "output_type": "stream",
     "text": [
      "11"
     ]
    }
   ],
   "source": [
    "import math\n",
    "num = int(input(\"enter the number till which you have to make the patter : \"))\n",
    "quotient = 1\n",
    "remainder = []\n",
    "while( quotient != 0):\n",
    "    remainder.append(num%2)\n",
    "    quotient = math.floor(num /2)\n",
    "    num = quotient\n",
    "\n",
    "# priting the binary\n",
    "for i in range(len(remainder) - 1, -1 , -1):\n",
    "    print(remainder[i] , end = \"\")\n",
    "    "
   ]
  },
  {
   "cell_type": "markdown",
   "id": "146a0b3d-b4e7-46f0-b996-2383986242df",
   "metadata": {},
   "source": [
    "Q - code for binary to decimal conversion "
   ]
  },
  {
   "cell_type": "code",
   "execution_count": 34,
   "id": "32d89e47-cc11-433f-bca6-c6a5b45757fc",
   "metadata": {},
   "outputs": [
    {
     "name": "stdin",
     "output_type": "stream",
     "text": [
      "enter the number till which you have to make the patter :  11\n"
     ]
    },
    {
     "name": "stdout",
     "output_type": "stream",
     "text": [
      "decimal value :  3\n"
     ]
    }
   ],
   "source": [
    "num = input(\"enter the number till which you have to make the patter : \")\n",
    "binaryArr = []\n",
    "revBinaryArr = []\n",
    "output   =0\n",
    "product = []\n",
    "for i in num:\n",
    "    binaryArr.append(int(i))\n",
    "\n",
    "for i in range(len(binaryArr) -1, -1 , -1):\n",
    "    revBinaryArr.append(binaryArr[i])\n",
    "\n",
    "for i in range(len(revBinaryArr)):\n",
    "    product.append(2**i)\n",
    "\n",
    "for i in range(len(revBinaryArr)):\n",
    "    output += revBinaryArr[i]*product[i]\n",
    "    \n",
    "\n",
    "print(\"decimal value : \" , output)\n"
   ]
  },
  {
   "cell_type": "code",
   "execution_count": 45,
   "id": "c719a74a-74e1-4ab6-900d-ccb6ac152958",
   "metadata": {},
   "outputs": [
    {
     "name": "stdout",
     "output_type": "stream",
     "text": [
      "1\n",
      "2\n",
      "3\n",
      "4\n",
      "2\n",
      "1\n",
      "2.5\n"
     ]
    }
   ],
   "source": [
    "nums1 = [1,2]\n",
    "nums2 = [4,3]\n",
    "\n",
    "oddeve = len(nums1) + len(nums2)\n",
    "merge = []\n",
    "for i in nums1:\n",
    "    merge.append(i)\n",
    "for i in nums2:\n",
    "    merge.append(i)\n",
    "\n",
    "for i in range(len(merge)):\n",
    "    for j in range(i+1 , len(merge)):\n",
    "        if(merge[i] > merge[j]):\n",
    "            a = merge[j]\n",
    "            merge[j] = merge[i]\n",
    "            merge[i] = a\n",
    "\n",
    "for i in range(len(merge)):\n",
    "    print(merge[i])\n",
    "        # here w egot the sorted array now chck if the size of the array is even or odd\n",
    "if(oddeve % 2 != 0 ):\n",
    "    index = math.floor(len(merge)/2)\n",
    "    output = merge[index]\n",
    "    print(output)\n",
    "\n",
    "if(oddeve %2 == 0):\n",
    "    index1 = math.floor(len(merge)/2) \n",
    "    print(index1)\n",
    "    index2 =  (math.floor(len(merge)/2)-1)\n",
    "    print(index2)\n",
    "    output = (merge[index1] + merge[index2])/2\n",
    "    print(output)"
   ]
  },
  {
   "cell_type": "code",
   "execution_count": 62,
   "id": "775f66c7-f2b5-4d3c-8131-0c17338adc66",
   "metadata": {},
   "outputs": [
    {
     "name": "stdout",
     "output_type": "stream",
     "text": [
      "hiflower\n"
     ]
    }
   ],
   "source": [
    "\n",
    "strs = [\"flower\",\"flow\",\"flight\"]\n",
    "output = \"hi\"\n",
    "isNotSame = False\n",
    "\n",
    "for i in range(len(strs[0])):\n",
    "    if(isNotSame):\n",
    "        break\n",
    "\n",
    "    for j in range(i+1 , len(strs)):\n",
    "        if(isNotSame):\n",
    "            break\n",
    "\n",
    "        if(strs[0][i] != strs[j][i]):\n",
    "            isNotSame = True\n",
    "                \n",
    "        \n",
    "    if(isNotSame == False):\n",
    "        output += strs[0][i]\n",
    "\n",
    "        \n",
    "if(isNotSame):\n",
    "    print(\"no common\")\n",
    "\n",
    "else:\n",
    "    print(output)"
   ]
  },
  {
   "cell_type": "code",
   "execution_count": null,
   "id": "573173dc-03ae-454c-8310-a332959c46af",
   "metadata": {},
   "outputs": [],
   "source": []
  },
  {
   "cell_type": "code",
   "execution_count": null,
   "id": "6ca395a6-f6b6-4b93-ab4a-44cbbb13e05c",
   "metadata": {},
   "outputs": [],
   "source": []
  }
 ],
 "metadata": {
  "kernelspec": {
   "display_name": "Python 3 (ipykernel)",
   "language": "python",
   "name": "python3"
  },
  "language_info": {
   "codemirror_mode": {
    "name": "ipython",
    "version": 3
   },
   "file_extension": ".py",
   "mimetype": "text/x-python",
   "name": "python",
   "nbconvert_exporter": "python",
   "pygments_lexer": "ipython3",
   "version": "3.11.9"
  }
 },
 "nbformat": 4,
 "nbformat_minor": 5
}
