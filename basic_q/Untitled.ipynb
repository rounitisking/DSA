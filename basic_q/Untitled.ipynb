{
 "cells": [
  {
   "cell_type": "markdown",
   "id": "cc56b3aa-a7d8-4f00-a6d7-96e711a20144",
   "metadata": {},
   "source": [
    "this is my first dsa python code in the jupyter notebook"
   ]
  },
  {
   "cell_type": "code",
   "execution_count": 1,
   "id": "098ca4c9-18e8-42df-af18-05b75641fbb4",
   "metadata": {},
   "outputs": [
    {
     "name": "stdout",
     "output_type": "stream",
     "text": [
      "the power is within you, you can do anything and everything -- by swami vivekanand\n"
     ]
    }
   ],
   "source": [
    "print(\"the power is within you, you can do anything and everything -- by swami vivekanand\")\n"
   ]
  },
  {
   "cell_type": "markdown",
   "id": "fd62f2da-073b-4947-a98b-7277ed9d881f",
   "metadata": {},
   "source": [
    "Q- to check if the entered character is uppercase or lowercase"
   ]
  },
  {
   "cell_type": "markdown",
   "id": "4fbec8d1-b0cb-4083-810c-0c1da81fbd75",
   "metadata": {},
   "source": [
    "note - ython does have the concept of === for comparing  the variable instead it uses only == and is keyword, is keyword is used to tell whether teh two variables point to the same object in the code \n",
    "\n",
    "and in python the input fucntion takes the input till the enter is cliked bcz python wants to minize the error occured by implicit conversion \n",
    "\n",
    "the characer are stored as ascii codes in the memory"
   ]
  },
  {
   "cell_type": "code",
   "execution_count": 8,
   "id": "ed9d3a85-df17-43ea-acde-36bb4566a968",
   "metadata": {
    "scrolled": true
   },
   "outputs": [
    {
     "name": "stdin",
     "output_type": "stream",
     "text": [
      "enter a charcter : 3\n"
     ]
    },
    {
     "name": "stdout",
     "output_type": "stream",
     "text": [
      "the answer is :  entered chr is +ve number\n"
     ]
    }
   ],
   "source": [
    "str = input(\"enter a charcter :\")\n",
    "output = ''\n",
    "if(str >= 'a' and str <= 'z'):\n",
    "    output = \"enter chr is in lowercase\"\n",
    "elif(str >='A' and str <= 'Z'):\n",
    "    output = \"enter chr is in uppercase\"\n",
    "elif(int(str) >= 1):\n",
    "    output = \"entered chr is +ve number\"\n",
    "elif(int(str) < 1 and int(str) != 0):\n",
    "    output = \"entered chr is -ve number\"\n",
    "elif(int(str) == 0 ):\n",
    "    output = \"entered chr is zero\"\n",
    "else:\n",
    "    output = \"the enter character is not defined in the q\"\n",
    "\n",
    "print(\"the answer is : \" , output)\n",
    "    "
   ]
  },
  {
   "cell_type": "markdown",
   "id": "dbff591d-cc00-4c97-8a15-1af3f73e063c",
   "metadata": {},
   "source": [
    "Q - to check if the input number is prime or not -- prime numbers are the numbers that are divisible by 1 and only by itself and the number should be greater than1 "
   ]
  },
  {
   "cell_type": "code",
   "execution_count": 19,
   "id": "b45c2e5e-2974-44e4-acbc-0fc790c8292d",
   "metadata": {},
   "outputs": [
    {
     "name": "stdin",
     "output_type": "stream",
     "text": [
      "enter a number to check for prime :  3\n"
     ]
    },
    {
     "name": "stdout",
     "output_type": "stream",
     "text": [
      "the entered number is prime :  True\n"
     ]
    }
   ],
   "source": [
    "num = int(input(\"enter a number to check for prime : \"))\n",
    "Isprime = True\n",
    "for i in range(2 , num-1 ):\n",
    "    if(num % i == 0):\n",
    "        Isprime = False\n",
    "        break;\n",
    "if( num < 2 ):\n",
    "    print(\"the entered number is incorrect\")\n",
    "else:\n",
    "    print(\"the entered number is prime : \",Isprime)"
   ]
  },
  {
   "cell_type": "code",
   "execution_count": null,
   "id": "f9fea2f0-a795-401d-93b2-979ec026679b",
   "metadata": {},
   "outputs": [],
   "source": []
  }
 ],
 "metadata": {
  "kernelspec": {
   "display_name": "Python 3 (ipykernel)",
   "language": "python",
   "name": "python3"
  },
  "language_info": {
   "codemirror_mode": {
    "name": "ipython",
    "version": 3
   },
   "file_extension": ".py",
   "mimetype": "text/x-python",
   "name": "python",
   "nbconvert_exporter": "python",
   "pygments_lexer": "ipython3",
   "version": "3.11.9"
  }
 },
 "nbformat": 4,
 "nbformat_minor": 5
}
