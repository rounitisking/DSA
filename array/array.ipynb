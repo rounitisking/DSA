{
 "cells": [
  {
   "cell_type": "markdown",
   "id": "a4195c3e-643a-489a-bd2a-b8ff91c939b9",
   "metadata": {},
   "source": [
    "Q - Maximum Subarray Sum"
   ]
  },
  {
   "cell_type": "code",
   "execution_count": 53,
   "id": "caedaa35-5105-483e-9a5d-7bb54366430f",
   "metadata": {},
   "outputs": [
    {
     "name": "stdout",
     "output_type": "stream",
     "text": [
      "the max sum of the maximum subarray is : 15\n"
     ]
    }
   ],
   "source": [
    "arr = [3, -4 , 5 , 4 , -1 , 7 , -8]\n",
    "final = []\n",
    "isbreak = False\n",
    "# this will tell the no of pair of subset that will be forming\n",
    "for i in range(len(arr)):\n",
    "    # ye loop batayega ki konsa element pe chl raha hai\n",
    "    for j in range(len(arr)):\n",
    "        string = \"\"\n",
    "        count =0\n",
    "        for k in range(i+1):\n",
    "            if(j+count == len(arr)):\n",
    "                isbreak = True\n",
    "                break\n",
    "            \n",
    "            string += str(arr[j+count])\n",
    "            count += 1\n",
    "        if(not isbreak and string != \"\"):\n",
    "            \n",
    "            final.append(string)\n",
    "        isbreak = False\n",
    "# print(final)\n",
    "sum_op = []\n",
    "\n",
    "for i in range(len(final)):\n",
    "    s =0\n",
    "    nxt = False\n",
    "    for j in range(len(final[i])):\n",
    "        if(nxt):\n",
    "            nxt = False\n",
    "            continue\n",
    "        if(len(final[i]) == 1):\n",
    "            s = int(final[i])\n",
    "        else:\n",
    "            if(final[i][j] == \"-\"):\n",
    "                nxt = True\n",
    "                s -= int(final[i][j+1])\n",
    "            else:\n",
    "                s += int(final[i][j])\n",
    "                \n",
    "            \n",
    "    sum_op.append(s)\n",
    "# print(sum_op)\n",
    "max_sum = sum_op[0]\n",
    "for i in range(len(sum_op)):\n",
    "    if(max_sum < sum_op[i]):\n",
    "        max_sum = sum_op[i]\n",
    "\n",
    "print(\"the max sum of the maximum subarray is :\",max_sum)\n",
    "        "
   ]
  },
  {
   "cell_type": "markdown",
   "id": "e2e665f8-94da-4dde-a752-f67ac177e017",
   "metadata": {},
   "source": [
    "Q -  Pair sum"
   ]
  },
  {
   "cell_type": "code",
   "execution_count": null,
   "id": "0720d02f-5cd4-4b3b-a403-3ff8a96d3c4f",
   "metadata": {},
   "outputs": [],
   "source": [
    "arr = [2, 7 , 11 ,15]\n",
    "target = 9\n",
    "output =[]\n",
    "for i in range(len(arr)):\n",
    "    sub = []\n",
    "    for j in range(len(arr)):\n",
    "        if(i == j):\n",
    "            continue\n",
    "        if(arr[i] + arr[j] == target):\n",
    "            if(len(output) != 0):\n",
    "                sub.append(arr[i])\n",
    "                sub.append(arr[j])\n",
    "                isPrsnt =False\n",
    "                for k in range(len(output)):\n",
    "                    # print(output)\n",
    "                    index = []\n",
    "                    for l in range(len(output[k])):\n",
    "                        for m in range(len(sub)):\n",
    "                            # print(sub)\n",
    "                            if(sub[m] == output[k][l] and (not(m in index))):\n",
    "                                # print(\"i\")\n",
    "                                index.append(m)\n",
    "                    # print(index)\n",
    "                    if(len(index)==2):\n",
    "                        # print(\"i am in index == 2\")\n",
    "                        isPrsnt = True\n",
    "                        sub = []\n",
    "                if(not isPrsnt):\n",
    "                    # print(isPrnst)\n",
    "                    isprsnt = False\n",
    "                      \n",
    "                    \n",
    "                       \n",
    "            else:\n",
    "                sub.append(arr[i])\n",
    "                sub.append(arr[j])\n",
    "    # print(sub)\n",
    "    if(len(sub) != 0 ):\n",
    "        output.append(sub)\n",
    "print(output)"
   ]
  },
  {
   "cell_type": "markdown",
   "id": "e487fc7b-bfdd-4284-9d40-f8a183be6d64",
   "metadata": {},
   "source": [
    "Q - majority element"
   ]
  },
  {
   "cell_type": "code",
   "execution_count": null,
   "id": "a2ea0f05-53dc-4d7a-a4af-ad64b51b9346",
   "metadata": {},
   "outputs": [],
   "source": [
    "\n",
    "nums = [3,2,3]\n",
    "count = []\n",
    "for i in range(len(nums)):\n",
    "    arr = []\n",
    "    numCount = 0\n",
    "    for j in range(len(nums)):\n",
    "        if nums[i] == nums[j]:\n",
    "            numCount += 1\n",
    "    arr.append(nums[i])\n",
    "    arr.append(numCount)\n",
    "    count.append(arr)\n",
    "\n",
    "maxC = count[0][1]\n",
    "maxindex = 0\n",
    "for i in range(len(count)):\n",
    "    if maxC < count[i][1]:\n",
    "        maxC = count[i][1]\n",
    "        maxindex = i\n",
    "if(maxC > len(nums)/2)\n",
    "    print(count[maxindex][0])\n",
    "\n",
    "\n"
   ]
  },
  {
   "cell_type": "markdown",
   "id": "c1b7f73b-35b6-4bcd-abf2-a2ff189601fa",
   "metadata": {},
   "source": [
    "Q - container with most water"
   ]
  },
  {
   "cell_type": "code",
   "execution_count": null,
   "id": "ddd4bea2-66db-4aa9-898c-3946e838d4d8",
   "metadata": {},
   "outputs": [],
   "source": [
    "maxwater = []\n",
    "for i in range(len(height)):\n",
    "    start = height[i]\n",
    "    for j in range(i + 1, len(height)):\n",
    "        cap = 0\n",
    "        end = height[j]\n",
    "        if start < end:\n",
    "            cap = start * (j - i)\n",
    "        elif end < start:\n",
    "            cap = end * (j - i)\n",
    "        else:  # when start == end\n",
    "            cap = start * (j - i)\n",
    "        maxwater.append(cap)\n",
    "\n",
    "max_ = maxwater[0]\n",
    "for i in range(len(maxwater)):\n",
    "    if max_ < maxwater[i]:\n",
    "        max_ = maxwater[i]\n",
    "\n",
    "print(max_)\n"
   ]
  },
  {
   "cell_type": "markdown",
   "id": "014283fb-1c6e-4c2f-9889-2006e62c34d8",
   "metadata": {},
   "source": [
    "Q - product of the array except self "
   ]
  },
  {
   "cell_type": "code",
   "execution_count": null,
   "id": "bd517ee9-29cd-4f8b-aae6-9b6379bd9e56",
   "metadata": {},
   "outputs": [],
   "source": [
    "if len(nums) == 1:\n",
    "    return nums\n",
    "\n",
    "sol = []\n",
    "for i in range(len(nums)):\n",
    "    product = 1\n",
    "    for j in range(len(nums)):\n",
    "        if i == j:\n",
    "            continue\n",
    "        product *= nums[j]\n",
    "    sol.append(product)\n",
    "\n",
    "return sol\n"
   ]
  }
 ],
 "metadata": {
  "kernelspec": {
   "display_name": "Python 3 (ipykernel)",
   "language": "python",
   "name": "python3"
  },
  "language_info": {
   "codemirror_mode": {
    "name": "ipython",
    "version": 3
   },
   "file_extension": ".py",
   "mimetype": "text/x-python",
   "name": "python",
   "nbconvert_exporter": "python",
   "pygments_lexer": "ipython3",
   "version": "3.11.9"
  }
 },
 "nbformat": 4,
 "nbformat_minor": 5
}
