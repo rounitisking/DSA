{
 "cells": [
  {
   "cell_type": "markdown",
   "id": "a559b709-de48-4e98-a7f3-08dc65e8da0d",
   "metadata": {},
   "source": [
    "Q - print the pattern -  1234 like this but the pattern size will be inputted by the user\n",
    "                         1234\n",
    "                         1234\n",
    "                         1234"
   ]
  },
  {
   "cell_type": "markdown",
   "id": "827d14be-ca83-4704-9f05-6da419b5e073",
   "metadata": {},
   "source": [
    "***** do it in the form of characters"
   ]
  },
  {
   "cell_type": "markdown",
   "id": "8656f8b7-c22f-4dd5-80ad-7bdacac12164",
   "metadata": {},
   "source": [
    "note - range goes till the num-1 like range(2) means it will print 0,1 range(1,2) means it will print only 1"
   ]
  },
  {
   "cell_type": "code",
   "execution_count": 5,
   "id": "905189c0-f2e9-4728-90b2-adab32fbd567",
   "metadata": {},
   "outputs": [
    {
     "name": "stdin",
     "output_type": "stream",
     "text": [
      "enter any number till which you have to print the pattern : 4\n"
     ]
    },
    {
     "name": "stdout",
     "output_type": "stream",
     "text": [
      "1234\n",
      "1234\n",
      "1234\n",
      "1234\n"
     ]
    }
   ],
   "source": [
    "n = int(input(\"enter any number till which you have to print the pattern :\"))\n",
    "for i in range (1, n+1):\n",
    "    for j in range (1, n+1):\n",
    "        print(j, end=\"\")\n",
    "    print(end = \"\\n\")\n"
   ]
  },
  {
   "cell_type": "markdown",
   "id": "559fa7c2-9268-4d23-b9d8-c3d2fbbfed65",
   "metadata": {},
   "source": [
    "Q - print pattern like\n",
    "*\n",
    "**\n",
    "***\n",
    "****\n",
    "*****\n"
   ]
  },
  {
   "cell_type": "code",
   "execution_count": 22,
   "id": "2997410b-a8b6-4c48-972a-e61c559a3acb",
   "metadata": {},
   "outputs": [
    {
     "name": "stdin",
     "output_type": "stream",
     "text": [
      "enter the number till which you have to make the patter :  5\n"
     ]
    },
    {
     "name": "stdout",
     "output_type": "stream",
     "text": [
      "*\n",
      "**\n",
      "***\n",
      "****\n",
      "*****\n"
     ]
    }
   ],
   "source": [
    "num = int(input(\"enter the number till which you have to make the patter : \"))\n",
    "for i in range(1, num+1):\n",
    "    for j in range(0 , i):\n",
    "        print(\"*\",end = '')\n",
    "    print(end = '\\n')\n",
    "\n",
    "    "
   ]
  },
  {
   "cell_type": "markdown",
   "id": "cd7988a4-b0f1-4360-931a-fc514000077c",
   "metadata": {},
   "source": [
    "Q - print pattern like -- 123  first the user input the no of lines he wants to print\n",
    "                          456\n",
    "                          789"
   ]
  },
  {
   "cell_type": "markdown",
   "id": "1aaee583-d210-4d81-9f90-fda68f35d667",
   "metadata": {},
   "source": [
    "**** prints this patter by using character***"
   ]
  },
  {
   "cell_type": "code",
   "execution_count": 25,
   "id": "5be1d23d-8df8-4903-98d6-99a2ce9e53a1",
   "metadata": {},
   "outputs": [
    {
     "name": "stdin",
     "output_type": "stream",
     "text": [
      "enter the number till which you have to make the patter :  3\n"
     ]
    },
    {
     "name": "stdout",
     "output_type": "stream",
     "text": [
      "123\n",
      "456\n",
      "789\n"
     ]
    }
   ],
   "source": [
    "incrementNum = 1\n",
    "num = int(input(\"enter the number till which you have to make the patter : \"))\n",
    "for i in range(num):\n",
    "    for j in range(num):\n",
    "        print(incrementNum , end =\"\")\n",
    "        incrementNum += 1\n",
    "        \n",
    "    print(end = '\\n')"
   ]
  },
  {
   "cell_type": "markdown",
   "id": "964c20d2-7fa3-44ff-8a0a-20fbecc9512f",
   "metadata": {},
   "source": [
    "Q - print pattern like -- 1  first the user input the no of lines he wants to print\n",
    "                          22\n",
    "                          333\n",
    "                          4444"
   ]
  },
  {
   "cell_type": "markdown",
   "id": "c6e9320c-d5f2-4594-bb78-5ba479e1d387",
   "metadata": {},
   "source": [
    "***** print the same patter using character ****"
   ]
  },
  {
   "cell_type": "code",
   "execution_count": 28,
   "id": "62f7fd2a-a8e1-4025-963b-3380b67b9a9d",
   "metadata": {},
   "outputs": [
    {
     "name": "stdin",
     "output_type": "stream",
     "text": [
      "enter the number till which you have to make the patter :  4\n"
     ]
    },
    {
     "name": "stdout",
     "output_type": "stream",
     "text": [
      "1\n",
      "22\n",
      "333\n",
      "4444\n"
     ]
    }
   ],
   "source": [
    "num = int(input(\"enter the number till which you have to make the patter : \"))\n",
    "for i in range(1 , num+1):\n",
    "    for j in range(i):\n",
    "        print(i , end = \"\")\n",
    "    print(end = '\\n')\n",
    "    "
   ]
  },
  {
   "cell_type": "markdown",
   "id": "21a843cb-0dc0-44cb-8f81-b7d908a48417",
   "metadata": {},
   "source": [
    "Q - print pattern like -- 1  first the user input the no of lines he wants to print\n",
    "                          12\n",
    "                          123\n",
    "                          1234"
   ]
  },
  {
   "cell_type": "code",
   "execution_count": 33,
   "id": "5d1f69ca-d1b9-4efa-a63b-f28aa9d8e2df",
   "metadata": {},
   "outputs": [
    {
     "name": "stdin",
     "output_type": "stream",
     "text": [
      "enter the number till which you have to make the patter :  4\n"
     ]
    },
    {
     "name": "stdout",
     "output_type": "stream",
     "text": [
      "1\n",
      "12\n",
      "123\n",
      "1234\n"
     ]
    }
   ],
   "source": [
    "num = int(input(\"enter the number till which you have to make the patter : \"))\n",
    "for i in range(num):\n",
    "    for j in range(1 , i+2):\n",
    "        print(j , end = '')\n",
    "    print(end = '\\n')\n",
    "    "
   ]
  },
  {
   "cell_type": "markdown",
   "id": "540fc032-b7fc-420c-8b38-f6a43467df1d",
   "metadata": {},
   "source": [
    "Q - print pattern like -- 1  first the user input the no of lines he wants to print   ---reverse triangle pattern \n",
    "                              21\n",
    "                              321\n",
    "                              4321"
   ]
  },
  {
   "cell_type": "code",
   "execution_count": 35,
   "id": "d4c36579-6c1d-4a15-abb0-666b75ea8956",
   "metadata": {},
   "outputs": [
    {
     "name": "stdin",
     "output_type": "stream",
     "text": [
      "enter the number till which you have to make the patter :  4\n"
     ]
    },
    {
     "name": "stdout",
     "output_type": "stream",
     "text": [
      "1\n",
      "21\n",
      "321\n",
      "4321\n"
     ]
    }
   ],
   "source": [
    "num = int(input(\"enter the number till which you have to make the patter : \"))\n",
    "for i in range(num):\n",
    "    for j in range(i+1 , 0 , -1):\n",
    "        print(j , end ='')\n",
    "    print(end = '\\n')"
   ]
  },
  {
   "cell_type": "markdown",
   "id": "ac0d5724-66cb-49dc-bcd8-3cafd8adfa4f",
   "metadata": {},
   "source": [
    "Q - print pattern like -- 1  first the user input the no of lines he wants to print     --- flyod's triangle pattern\n",
    "                          2 3  \n",
    "                          4 5 6\n",
    "                          7 8 9 10"
   ]
  },
  {
   "cell_type": "code",
   "execution_count": 37,
   "id": "319d81ee-365e-42ba-89ae-e1aca5a4865e",
   "metadata": {},
   "outputs": [
    {
     "name": "stdin",
     "output_type": "stream",
     "text": [
      "enter the number till which you have to make the patter :  4\n"
     ]
    },
    {
     "name": "stdout",
     "output_type": "stream",
     "text": [
      "1  \n",
      "2  3  \n",
      "4  5  6  \n",
      "7  8  9  10  \n"
     ]
    }
   ],
   "source": [
    "num = int(input(\"enter the number till which you have to make the patter : \"))\n",
    "incrementNum = 1\n",
    "for i in range(num):\n",
    "    for j in range(i+1):\n",
    "        print(incrementNum , \" \" , end = '')\n",
    "        incrementNum += 1\n",
    "    print(end = '\\n')"
   ]
  },
  {
   "cell_type": "markdown",
   "id": "6a53ac4a-b279-4b6f-89d9-06ffc9f3729f",
   "metadata": {},
   "source": [
    "Q - print pattern like -- 1  first the user input the no of lines he wants to print    \n",
    "                          3 2  \n",
    "                          6 5 4 \n",
    "                          10 9 8 7 "
   ]
  },
  {
   "cell_type": "code",
   "execution_count": null,
   "id": "6da44c82-3209-4929-8162-26438aeeed3d",
   "metadata": {},
   "outputs": [],
   "source": [
    "num = int(input(\"enter the number till which you have to make the patter : \"))\n",
    "incr = 1\n",
    "incrementNum = 1\n",
    "for i in range(num):\n",
    "    incr = incr*2\n",
    "    for j in range(i+1):\n",
    "        print(incrementNum +, end = '')\n",
    "        \n",
    "        \n",
    "            \n"
   ]
  },
  {
   "cell_type": "markdown",
   "id": "069ee5b0-911d-4ac0-a0d3-8ee72c45dbda",
   "metadata": {},
   "source": [
    "Q - print pattern like -- 1111  first the user input the no of lines he wants to print     --- inverted triangle pattern\n",
    "                          222 \n",
    "                          33\n",
    "                          4"
   ]
  },
  {
   "cell_type": "code",
   "execution_count": 40,
   "id": "a63aab95-97bb-484b-9113-ec98b4f078e5",
   "metadata": {},
   "outputs": [
    {
     "name": "stdin",
     "output_type": "stream",
     "text": [
      "enter the number till which you have to make the patter :  4\n"
     ]
    },
    {
     "name": "stdout",
     "output_type": "stream",
     "text": [
      "1111\n",
      "222\n",
      "33\n",
      "4\n"
     ]
    }
   ],
   "source": [
    "num = int(input(\"enter the number till which you have to make the patter : \"))\n",
    "for i in range(1 , num+1):\n",
    "    for j in range(num +1, i , -1):\n",
    "        print(i, end = '')\n",
    "    print(end = '\\n')\n",
    "    "
   ]
  },
  {
   "cell_type": "markdown",
   "id": "923b16a2-66de-436e-9347-f4c6bb5a5593",
   "metadata": {},
   "source": [
    "Q - print pattern like --  1  first the user input the no of lines he wants to print     --- pyramid pattern\n",
    "                         1 2 1  \n",
    "                       1 2 3 2 1\n",
    "                     1 2 3 4 3 2 1"
   ]
  },
  {
   "cell_type": "code",
   "execution_count": 54,
   "id": "611efbce-112e-4561-9672-67ea2615d382",
   "metadata": {},
   "outputs": [
    {
     "name": "stdin",
     "output_type": "stream",
     "text": [
      "enter the number till which you have to make the patter :  4\n"
     ]
    },
    {
     "name": "stdout",
     "output_type": "stream",
     "text": [
      "      1 \n",
      "    1 2 1 \n",
      "  1 2 3 2 1 \n",
      "1 2 3 4 3 2 1 \n"
     ]
    }
   ],
   "source": [
    "num = int(input(\"enter the number till which you have to make the patter : \"))\n",
    "space = num -1 \n",
    "incrNum = 1\n",
    "printNum = incrNum\n",
    "for i in range(num):\n",
    "#printing the space triangle first \n",
    "    for j in range(space ,  0 , -1):\n",
    "        print(\" \", end = ' ')\n",
    "    \n",
    "\n",
    "# printing the number pyramid \n",
    "    for k in range(i+1):\n",
    "        print(k + 1, end = \" \")\n",
    "    \n",
    "\n",
    "# priting the number first \n",
    "    for l in range(i+1):\n",
    "        if(printNum -1  == 0):\n",
    "            break;\n",
    "        print(printNum - 1 , end = ' ')\n",
    "        printNum = printNum - 1 \n",
    "    incrNum = incrNum + 1\n",
    "    printNum = incrNum\n",
    "    \n",
    "    \n",
    "    space = space - 1\n",
    "    print(end = '\\n')"
   ]
  },
  {
   "cell_type": "markdown",
   "id": "7ae5674a-6447-4110-83ae-34f9f2127f13",
   "metadata": {},
   "source": [
    "Q - print pattern like --   *   first the user input the no of lines he wants to print     --- hollow dimond pattern\n",
    "                          *    *\n",
    "                        *        *\n",
    "                      *            *\n",
    "                        *        *\n",
    "                          *    *\n",
    "                            *"
   ]
  },
  {
   "cell_type": "code",
   "execution_count": 56,
   "id": "e6f57dc5-45da-4d82-89df-9dc0e6f95596",
   "metadata": {},
   "outputs": [
    {
     "name": "stdin",
     "output_type": "stream",
     "text": [
      "enter the number till which you have to make the patter :  4\n"
     ]
    },
    {
     "name": "stdout",
     "output_type": "stream",
     "text": [
      "      * \n",
      "    *   * \n",
      "  *       * \n",
      "*           * \n",
      "  *       * \n",
      "    *   * \n",
      "      * \n"
     ]
    }
   ],
   "source": [
    "num = int(input(\"enter the number till which you have to make the patter : \"))\n",
    "space = num -1\n",
    "isFirstLoop = False\n",
    "spaceIncr = 1\n",
    "turnDownWard = 1\n",
    "downMiddleSpaceCount = 1\n",
    "\n",
    "for t in range(3 , num):\n",
    "    downMiddleSpaceCount = downMiddleSpaceCount +2\n",
    "spaceDcr = downMiddleSpaceCount\n",
    "\n",
    "\n",
    "for i in range(num):\n",
    "# printing the first space triangle \n",
    "    for j in range(space , 0 , -1):\n",
    "        print(\"  \" , end = \"\")\n",
    "    \n",
    "    space = space -1\n",
    "\n",
    "    # printing the star after the first space triangle\n",
    "    print('* ' , end =\"\")\n",
    "\n",
    "    \n",
    "# printing the space in the middle\n",
    "    if(isFirstLoop):\n",
    "        for k in range(spaceIncr):\n",
    "            print(\" \" , end = \" \")\n",
    "        spaceIncr = spaceIncr + 2\n",
    "\n",
    "# printing the end star\n",
    "    if(isFirstLoop):\n",
    "        print('* ' , end = \"\")\n",
    "    isFirstLoop = True \n",
    "\n",
    "    print(end = \"\\n\")\n",
    "\n",
    "\n",
    "\n",
    "# print the lower space triangle\n",
    "for low in range(num - 1):\n",
    "    for l in range(low + 1):\n",
    "        \n",
    "        if(turnDownWard == num ):\n",
    "            break;\n",
    "        print(\"  \" , end =\"\")\n",
    "    \n",
    "\n",
    "    print(\"* \" , end =\"\")\n",
    "\n",
    "\n",
    "# writing the logic of middle space in downtriangle\n",
    "    for m in range(spaceDcr , 0 , -1):\n",
    "        print(\"  \", end =\"\")\n",
    "    spaceDcr = spaceDcr - 2 \n",
    "    \n",
    "\n",
    "    if(turnDownWard <= num - 2 ):\n",
    "        print(\"* \" , end = \"\")\n",
    "    turnDownWard = turnDownWard + 1\n",
    "    print(end = \"\\n\")\n",
    "    \n",
    "        "
   ]
  },
  {
   "cell_type": "markdown",
   "id": "ddcd8376-ab1b-4f30-8d7a-29a7f99a8a9c",
   "metadata": {},
   "source": []
  },
  {
   "cell_type": "code",
   "execution_count": 60,
   "id": "93659f7f-d5d2-4bd7-8e5e-cb9b75110710",
   "metadata": {},
   "outputs": [
    {
     "name": "stdin",
     "output_type": "stream",
     "text": [
      "enter the number till which you have to make the patter :  5\n"
     ]
    },
    {
     "name": "stdout",
     "output_type": "stream",
     "text": [
      "1        1\n",
      "12      21\n",
      "123    321\n",
      "1234  4321\n",
      "1234554321\n"
     ]
    }
   ],
   "source": [
    "num = int(input(\"enter the number till which you have to make the patter : \"))\n",
    "space = num  +3\n",
    "\n",
    "for i in range(num):\n",
    "    for k in range(1 , i + 2):\n",
    "        print(k , end = \"\")\n",
    "\n",
    "    for j in range(0 , space):\n",
    "        print(\" \" , end =\"\")\n",
    "    space =space - 2\n",
    "\n",
    "    for l in range(i +1 , 0 , -1):\n",
    "        print(l , end = \"\")\n",
    "    print(end = '\\n')  \n",
    "        "
   ]
  },
  {
   "cell_type": "markdown",
   "id": "110ccc35-f9cd-4dc0-a28c-ab5a7427b5c7",
   "metadata": {},
   "source": []
  },
  {
   "cell_type": "code",
   "execution_count": 67,
   "id": "e9adfff1-f907-4a7b-b079-555003ab7316",
   "metadata": {},
   "outputs": [
    {
     "name": "stdin",
     "output_type": "stream",
     "text": [
      "enter the number till which you have to make the patter :  5\n"
     ]
    },
    {
     "name": "stdout",
     "output_type": "stream",
     "text": [
      "*****\n",
      "*   *\n",
      "*   *\n",
      "*   *\n",
      "*****\n"
     ]
    }
   ],
   "source": [
    "num = int(input(\"enter the number till which you have to make the patter : \"))\n",
    "counter = 1\n",
    "\n",
    "for i in range(num):\n",
    "    if(counter == 1):\n",
    "        for j in range(num):\n",
    "            print(\"*\" , end =\"\")\n",
    "    if(counter != 1 and counter != num):\n",
    "        print(\"*\" , end =\"\")\n",
    "        for l in range(num -2 ):\n",
    "            print(\" \" , end =\"\")\n",
    "        print(\"*\" , end =\"\")\n",
    "\n",
    "    if(counter == num):\n",
    "        for m in range(num):\n",
    "            print(\"*\" , end =\"\")\n",
    "    counter = counter + 1\n",
    "    \n",
    "    print(end ='\\n')\n",
    "        "
   ]
  },
  {
   "cell_type": "markdown",
   "id": "2f51704d-e8a3-4817-990d-0457d397b387",
   "metadata": {},
   "source": []
  },
  {
   "cell_type": "code",
   "execution_count": 70,
   "id": "35f992d9-0c39-4f1d-bde7-7a15404ca72a",
   "metadata": {},
   "outputs": [
    {
     "name": "stdin",
     "output_type": "stream",
     "text": [
      "enter the number till which you have to make the patter :  5\n"
     ]
    },
    {
     "name": "stdout",
     "output_type": "stream",
     "text": [
      "1 \n",
      "3 2 \n",
      "6 5 4 \n",
      "10 9 8 7 \n",
      "15 14 13 12 11 \n"
     ]
    }
   ],
   "source": [
    "\n",
    "num = int(input(\"enter the number till which you have to make the patter : \"))\n",
    "maxNum = 0\n",
    "for i in range(num):\n",
    "    for j in range(i+1):\n",
    "        maxNum = maxNum + 1\n",
    "\n",
    "    containerNum = maxNum\n",
    "    for k in range(i+1):\n",
    "        print(containerNum , end =\" \")\n",
    "        containerNum =containerNum -1 \n",
    "    print(end = '\\n')\n",
    "    "
   ]
  },
  {
   "cell_type": "code",
   "execution_count": null,
   "id": "927a0cce-e6b7-4f0c-b4b1-3dfebfedca9b",
   "metadata": {},
   "outputs": [],
   "source": []
  }
 ],
 "metadata": {
  "kernelspec": {
   "display_name": "Python 3 (ipykernel)",
   "language": "python",
   "name": "python3"
  },
  "language_info": {
   "codemirror_mode": {
    "name": "ipython",
    "version": 3
   },
   "file_extension": ".py",
   "mimetype": "text/x-python",
   "name": "python",
   "nbconvert_exporter": "python",
   "pygments_lexer": "ipython3",
   "version": "3.11.9"
  }
 },
 "nbformat": 4,
 "nbformat_minor": 5
}
