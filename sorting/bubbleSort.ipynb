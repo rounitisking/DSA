{
 "cells": [
  {
   "cell_type": "markdown",
   "id": "d613468b-2c5a-4a01-8d90-d2e31306fcec",
   "metadata": {},
   "source": [
    "bubble sort mai ye hota hai ki ham sath vale elements se swap krte hai then end mai max element ko rakhte hai and agle line mai last element ko ignore kr dete hai usko ham compare nhi krte"
   ]
  },
  {
   "cell_type": "code",
   "execution_count": 3,
   "id": "78de28dd-6425-4d63-8937-c66cbe0b1c4d",
   "metadata": {},
   "outputs": [
    {
     "name": "stdin",
     "output_type": "stream",
     "text": [
      "Enter the number of input you have to take for bubble sort :  5\n",
      "Enter the number of input you have to take for bubble sort :  4\n",
      "Enter the number of input you have to take for bubble sort :  1\n",
      "Enter the number of input you have to take for bubble sort :  2\n",
      "Enter the number of input you have to take for bubble sort :  5\n",
      "Enter the number of input you have to take for bubble sort :  3\n"
     ]
    },
    {
     "name": "stdout",
     "output_type": "stream",
     "text": [
      "[1, 2, 3, 4, 5]\n"
     ]
    }
   ],
   "source": [
    "num = int(input(\"Enter the number of input you have to take for bubble sort : \"))\n",
    "arr = []\n",
    "for i in range(num):\n",
    "    n = int(input(\"Enter the number of input you have to take for bubble sort : \"))\n",
    "    arr.append(n)\n",
    "\n",
    "for i in range(len(arr)-1):\n",
    "    for j in range(len(arr)-(i+1)):\n",
    "        if(arr[j] > arr[j+1]):\n",
    "            swap = arr[j]\n",
    "            arr[j] = arr[j+1]\n",
    "            arr[j+1] = swap\n",
    "\n",
    "# priting of the output\n",
    "print(arr)"
   ]
  },
  {
   "cell_type": "code",
   "execution_count": null,
   "id": "d57b31a8-cad3-453e-a2e0-ab514bc2a691",
   "metadata": {},
   "outputs": [],
   "source": []
  }
 ],
 "metadata": {
  "kernelspec": {
   "display_name": "Python 3 (ipykernel)",
   "language": "python",
   "name": "python3"
  },
  "language_info": {
   "codemirror_mode": {
    "name": "ipython",
    "version": 3
   },
   "file_extension": ".py",
   "mimetype": "text/x-python",
   "name": "python",
   "nbconvert_exporter": "python",
   "pygments_lexer": "ipython3",
   "version": "3.11.9"
  }
 },
 "nbformat": 4,
 "nbformat_minor": 5
}
